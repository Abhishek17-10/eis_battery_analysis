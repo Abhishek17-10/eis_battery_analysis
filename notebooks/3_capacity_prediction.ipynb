{
 "cells": [
  {
   "cell_type": "code",
   "execution_count": 1,
   "id": "e95d142f",
   "metadata": {},
   "outputs": [
    {
     "name": "stdout",
     "output_type": "stream",
     "text": [
      "Loaded: 00001.csv\n",
      "Columns: ['Voltage_measured', 'Current_measured', 'Temperature_measured', 'Current_load', 'Voltage_load', 'Time']\n",
      "Test MSE: 0.0001\n"
     ]
    }
   ],
   "source": [
    "import sys, os\n",
    "sys.path.append(os.path.abspath(\"..\"))\n",
    "\n",
    "import pandas as pd\n",
    "from src.model import train_capacity_model\n",
    "\n",
    "folder = \"../data/raw\"\n",
    "files = sorted([f for f in os.listdir(folder) if f.endswith(\".csv\")])\n",
    "df = pd.read_csv(os.path.join(folder, files[0]))\n",
    "\n",
    "print(\"Loaded:\", files[0])\n",
    "print(\"Columns:\", df.columns.tolist())\n",
    "\n",
    "\n",
    "X = df[['Voltage_measured', 'Current_measured', 'Temperature_measured']].values\n",
    "\n",
    "df['Capacity'] = (df['Current_measured'] * df['Time'].diff().fillna(0)) / 3600\n",
    "capacity = df['Capacity'].cumsum()\n",
    "y = capacity.values\n",
    "\n",
    "# 🧠 Train model\n",
    "model = train_capacity_model(X, y)"
   ]
  }
 ],
 "metadata": {
  "kernelspec": {
   "display_name": "battery-eis",
   "language": "python",
   "name": "python3"
  },
  "language_info": {
   "codemirror_mode": {
    "name": "ipython",
    "version": 3
   },
   "file_extension": ".py",
   "mimetype": "text/x-python",
   "name": "python",
   "nbconvert_exporter": "python",
   "pygments_lexer": "ipython3",
   "version": "3.10.17"
  }
 },
 "nbformat": 4,
 "nbformat_minor": 5
}
