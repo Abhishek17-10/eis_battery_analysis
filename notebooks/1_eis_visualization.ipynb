{
 "cells": [
  {
   "cell_type": "code",
   "execution_count": null,
   "id": "1a774806",
   "metadata": {},
   "outputs": [],
   "source": [
    "\n",
    "import sys, os\n",
    "sys.path.append(os.path.abspath(\"..\"))\n"
   ]
  },
  {
   "cell_type": "code",
   "execution_count": null,
   "id": "06a215b7",
   "metadata": {},
   "outputs": [
    {
     "name": "stdout",
     "output_type": "stream",
     "text": [
      "Loaded: 00001.csv\n",
      "Columns: ['Voltage_measured', 'Current_measured', 'Temperature_measured', 'Current_load', 'Voltage_load', 'Time']\n"
     ]
    },
    {
     "data": {
      "text/html": [
       "<div>\n",
       "<style scoped>\n",
       "    .dataframe tbody tr th:only-of-type {\n",
       "        vertical-align: middle;\n",
       "    }\n",
       "\n",
       "    .dataframe tbody tr th {\n",
       "        vertical-align: top;\n",
       "    }\n",
       "\n",
       "    .dataframe thead th {\n",
       "        text-align: right;\n",
       "    }\n",
       "</style>\n",
       "<table border=\"1\" class=\"dataframe\">\n",
       "  <thead>\n",
       "    <tr style=\"text-align: right;\">\n",
       "      <th></th>\n",
       "      <th>Voltage_measured</th>\n",
       "      <th>Current_measured</th>\n",
       "      <th>Temperature_measured</th>\n",
       "      <th>Current_load</th>\n",
       "      <th>Voltage_load</th>\n",
       "      <th>Time</th>\n",
       "    </tr>\n",
       "  </thead>\n",
       "  <tbody>\n",
       "    <tr>\n",
       "      <th>0</th>\n",
       "      <td>4.246711</td>\n",
       "      <td>0.000252</td>\n",
       "      <td>6.212696</td>\n",
       "      <td>0.0002</td>\n",
       "      <td>0.000</td>\n",
       "      <td>0.000</td>\n",
       "    </tr>\n",
       "    <tr>\n",
       "      <th>1</th>\n",
       "      <td>4.246764</td>\n",
       "      <td>-0.001411</td>\n",
       "      <td>6.234019</td>\n",
       "      <td>0.0002</td>\n",
       "      <td>4.262</td>\n",
       "      <td>9.360</td>\n",
       "    </tr>\n",
       "    <tr>\n",
       "      <th>2</th>\n",
       "      <td>4.039277</td>\n",
       "      <td>-0.995093</td>\n",
       "      <td>6.250255</td>\n",
       "      <td>1.0000</td>\n",
       "      <td>3.465</td>\n",
       "      <td>23.281</td>\n",
       "    </tr>\n",
       "    <tr>\n",
       "      <th>3</th>\n",
       "      <td>4.019506</td>\n",
       "      <td>-0.996731</td>\n",
       "      <td>6.302176</td>\n",
       "      <td>1.0000</td>\n",
       "      <td>3.451</td>\n",
       "      <td>36.406</td>\n",
       "    </tr>\n",
       "    <tr>\n",
       "      <th>4</th>\n",
       "      <td>4.004763</td>\n",
       "      <td>-0.992845</td>\n",
       "      <td>6.361645</td>\n",
       "      <td>1.0000</td>\n",
       "      <td>3.438</td>\n",
       "      <td>49.625</td>\n",
       "    </tr>\n",
       "  </tbody>\n",
       "</table>\n",
       "</div>"
      ],
      "text/plain": [
       "   Voltage_measured  Current_measured  Temperature_measured  Current_load  \\\n",
       "0          4.246711          0.000252              6.212696        0.0002   \n",
       "1          4.246764         -0.001411              6.234019        0.0002   \n",
       "2          4.039277         -0.995093              6.250255        1.0000   \n",
       "3          4.019506         -0.996731              6.302176        1.0000   \n",
       "4          4.004763         -0.992845              6.361645        1.0000   \n",
       "\n",
       "   Voltage_load    Time  \n",
       "0         0.000   0.000  \n",
       "1         4.262   9.360  \n",
       "2         3.465  23.281  \n",
       "3         3.451  36.406  \n",
       "4         3.438  49.625  "
      ]
     },
     "execution_count": 6,
     "metadata": {},
     "output_type": "execute_result"
    }
   ],
   "source": [
    "\n",
    "import pandas as pd\n",
    "\n",
    "folder = \"../data/raw\"\n",
    "files = sorted([f for f in os.listdir(folder) if f.endswith(\".csv\")])\n",
    "sample_file = os.path.join(folder, files[0])\n",
    "df = pd.read_csv(sample_file)\n",
    "\n",
    "print(\"Loaded:\", files[0])\n",
    "print(\"Columns:\", df.columns.tolist())\n",
    "df.head()\n"
   ]
  },
  {
   "cell_type": "code",
   "execution_count": null,
   "id": "3f7f20d6",
   "metadata": {},
   "outputs": [
    {
     "name": "stdout",
     "output_type": "stream",
     "text": [
      "❌ Required columns not found.\n",
      "Cycle column: None, Re(Z): Voltage_measured, Im(Z): None\n"
     ]
    }
   ],
   "source": [
    "\n",
    "\n",
    "import matplotlib.pyplot as plt\n",
    "from mpl_toolkits.mplot3d import Axes3D\n",
    "\n",
    "# Try to guess column names\n",
    "possible_cycle_cols = ['Cycle', 'cycle', 'CycleIndex']\n",
    "possible_real_cols = ['Re(Z)', 'ReZ', 'ImpedanceReal']\n",
    "possible_imag_cols = ['-Im(Z)', 'ImZ', 'ImpedanceImag']\n",
    "\n",
    "def find_first_match(possible_cols, actual_cols):\n",
    "    for col in possible_cols:\n",
    "        if col in actual_cols:\n",
    "            return col\n",
    "    return None\n",
    "\n",
    "cycle_col = find_first_match(possible_cycle_cols, df.columns)\n",
    "re_col = find_first_match(possible_real_cols, df.columns)\n",
    "im_col = find_first_match(possible_imag_cols, df.columns)\n",
    "\n",
    "if None in [cycle_col, re_col, im_col]:\n",
    "    print(\"❌ Required columns not found.\")\n",
    "    print(f\"Cycle column: {cycle_col}, Re(Z): {re_col}, Im(Z): {im_col}\")\n",
    "else:\n",
    "    fig = plt.figure()\n",
    "    ax = fig.add_subplot(111, projection='3d')\n",
    "\n",
    "    grouped = df.groupby(cycle_col)\n",
    "    for cycle, group in grouped:\n",
    "        ax.plot(group[re_col], group[im_col], zs=cycle, zdir='z')\n",
    "\n",
    "    ax.set_xlabel(re_col)\n",
    "    ax.set_ylabel(im_col)\n",
    "    ax.set_zlabel(cycle_col)\n",
    "    plt.title(\"3D EIS Plot Over Aging\")\n",
    "    plt.show()\n"
   ]
  }
 ],
 "metadata": {
  "kernelspec": {
   "display_name": "battery-eis",
   "language": "python",
   "name": "python3"
  },
  "language_info": {
   "codemirror_mode": {
    "name": "ipython",
    "version": 3
   },
   "file_extension": ".py",
   "mimetype": "text/x-python",
   "name": "python",
   "nbconvert_exporter": "python",
   "pygments_lexer": "ipython3",
   "version": "3.10.17"
  }
 },
 "nbformat": 4,
 "nbformat_minor": 5
}
